{
  "nbformat": 4,
  "nbformat_minor": 0,
  "metadata": {
    "colab": {
      "provenance": []
    },
    "kernelspec": {
      "name": "python3",
      "display_name": "Python 3"
    },
    "language_info": {
      "name": "python"
    }
  },
  "cells": [
    {
      "cell_type": "markdown",
      "source": [
        "Quantization with PyTorch"
      ],
      "metadata": {
        "id": "o8kgCNaUYiQM"
      }
    },
    {
      "cell_type": "code",
      "source": [
        "import torch\n",
        "from transformers import SpeechT5ForTextToSpeech\n",
        "\n",
        "# Load the fine-tuned SpeechT5 model\n",
        "model = SpeechT5ForTextToSpeech.from_pretrained(\"path/to/fine-tuned-model\")\n",
        "\n",
        "# Apply dynamic quantization\n",
        "quantized_model = torch.quantization.quantize_dynamic(\n",
        "    model,  # Model to quantize\n",
        "    {torch.nn.Linear},  # Specify which layers to quantize\n",
        "    dtype=torch.qint8  # Use 8-bit quantization\n",
        ")\n",
        "\n",
        "# Save the quantized model\n",
        "quantized_model_path = \"quantized_speechT5_model.pth\"\n",
        "torch.save(quantized_model.state_dict(), quantized_model_path)\n",
        "\n",
        "print(\"Quantization completed. Model saved at:\", quantized_model_path)\n"
      ],
      "metadata": {
        "id": "V6W_2xgsYkVU"
      },
      "execution_count": null,
      "outputs": []
    },
    {
      "cell_type": "markdown",
      "source": [
        "Pruning to Improve Inference Speed"
      ],
      "metadata": {
        "id": "mER7x34wYmhs"
      }
    },
    {
      "cell_type": "code",
      "source": [
        "import torch.nn.utils.prune as prune\n",
        "\n",
        "# Prune 30% of the weights in linear layers\n",
        "for name, module in model.named_modules():\n",
        "    if isinstance(module, torch.nn.Linear):\n",
        "        prune.l1_unstructured(module, name='weight', amount=0.3)\n",
        "\n",
        "# Save the pruned model\n",
        "pruned_model_path = \"pruned_speechT5_model.pth\"\n",
        "torch.save(model.state_dict(), pruned_model_path)\n",
        "\n",
        "print(\"Pruning completed. Model saved at:\", pruned_model_path)\n"
      ],
      "metadata": {
        "colab": {
          "base_uri": "https://localhost:8080/",
          "height": 211
        },
        "id": "bwv3D30MYo6g",
        "outputId": "6704cbd6-fa1c-4262-bbdb-907b693a6378"
      },
      "execution_count": 1,
      "outputs": [
        {
          "output_type": "error",
          "ename": "NameError",
          "evalue": "name 'model' is not defined",
          "traceback": [
            "\u001b[0;31m---------------------------------------------------------------------------\u001b[0m",
            "\u001b[0;31mNameError\u001b[0m                                 Traceback (most recent call last)",
            "\u001b[0;32m<ipython-input-1-982597117f6c>\u001b[0m in \u001b[0;36m<cell line: 4>\u001b[0;34m()\u001b[0m\n\u001b[1;32m      2\u001b[0m \u001b[0;34m\u001b[0m\u001b[0m\n\u001b[1;32m      3\u001b[0m \u001b[0;31m# Prune 30% of the weights in linear layers\u001b[0m\u001b[0;34m\u001b[0m\u001b[0;34m\u001b[0m\u001b[0m\n\u001b[0;32m----> 4\u001b[0;31m \u001b[0;32mfor\u001b[0m \u001b[0mname\u001b[0m\u001b[0;34m,\u001b[0m \u001b[0mmodule\u001b[0m \u001b[0;32min\u001b[0m \u001b[0mmodel\u001b[0m\u001b[0;34m.\u001b[0m\u001b[0mnamed_modules\u001b[0m\u001b[0;34m(\u001b[0m\u001b[0;34m)\u001b[0m\u001b[0;34m:\u001b[0m\u001b[0;34m\u001b[0m\u001b[0;34m\u001b[0m\u001b[0m\n\u001b[0m\u001b[1;32m      5\u001b[0m     \u001b[0;32mif\u001b[0m \u001b[0misinstance\u001b[0m\u001b[0;34m(\u001b[0m\u001b[0mmodule\u001b[0m\u001b[0;34m,\u001b[0m \u001b[0mtorch\u001b[0m\u001b[0;34m.\u001b[0m\u001b[0mnn\u001b[0m\u001b[0;34m.\u001b[0m\u001b[0mLinear\u001b[0m\u001b[0;34m)\u001b[0m\u001b[0;34m:\u001b[0m\u001b[0;34m\u001b[0m\u001b[0;34m\u001b[0m\u001b[0m\n\u001b[1;32m      6\u001b[0m         \u001b[0mprune\u001b[0m\u001b[0;34m.\u001b[0m\u001b[0ml1_unstructured\u001b[0m\u001b[0;34m(\u001b[0m\u001b[0mmodule\u001b[0m\u001b[0;34m,\u001b[0m \u001b[0mname\u001b[0m\u001b[0;34m=\u001b[0m\u001b[0;34m'weight'\u001b[0m\u001b[0;34m,\u001b[0m \u001b[0mamount\u001b[0m\u001b[0;34m=\u001b[0m\u001b[0;36m0.3\u001b[0m\u001b[0;34m)\u001b[0m\u001b[0;34m\u001b[0m\u001b[0;34m\u001b[0m\u001b[0m\n",
            "\u001b[0;31mNameError\u001b[0m: name 'model' is not defined"
          ]
        }
      ]
    },
    {
      "cell_type": "markdown",
      "source": [
        "Inference Speed Testing on CPU/GPU and Edge Devices"
      ],
      "metadata": {
        "id": "gtpSHJVtYsGw"
      }
    },
    {
      "cell_type": "code",
      "source": [
        "import time\n",
        "\n",
        "# Load the quantized model\n",
        "model.load_state_dict(torch.load(quantized_model_path))\n",
        "\n",
        "# Prepare input text and move model to the appropriate device\n",
        "text = \"Using CUDA and APIs efficiently improves GPU performance.\"\n",
        "inputs = processor(text=text, return_tensors=\"pt\")\n",
        "\n",
        "device = torch.device(\"cuda\" if torch.cuda.is_available() else \"cpu\")\n",
        "model.to(device)\n",
        "inputs = {k: v.to(device) for k, v in inputs.items()}\n",
        "\n",
        "# Measure inference time\n",
        "start_time = time.time()\n",
        "with torch.no_grad():\n",
        "    speech = model.generate_speech(inputs[\"input_ids\"], speaker_embeddings, vocoder=vocoder)\n",
        "end_time = time.time()\n",
        "\n",
        "print(f\"Inference time: {end_time - start_time:.4f} seconds\")\n"
      ],
      "metadata": {
        "id": "5PmTe_mvYu5I"
      },
      "execution_count": null,
      "outputs": []
    },
    {
      "cell_type": "markdown",
      "source": [
        "Evaluation - Model Size and Quality Trade-off"
      ],
      "metadata": {
        "id": "ylS4AYzYYxs-"
      }
    },
    {
      "cell_type": "code",
      "source": [
        "import os\n",
        "\n",
        "# Check the size of each model\n",
        "original_size = os.path.getsize(\"path/to/fine-tuned-model.pth\")\n",
        "quantized_size = os.path.getsize(quantized_model_path)\n",
        "pruned_size = os.path.getsize(pruned_model_path)\n",
        "\n",
        "print(f\"Original Model Size: {original_size / 1e6:.2f} MB\")\n",
        "print(f\"Quantized Model Size: {quantized_size / 1e6:.2f} MB\")\n",
        "print(f\"Pruned Model Size: {pruned_size / 1e6:.2f} MB\")\n",
        "\n",
        "# Sample MOS evaluation output\n",
        "print(\"MOS Scores (out of 5):\")\n",
        "print(\"Original Model: 4.2\")\n",
        "print(\"Quantized Model: 4.0\")\n",
        "print(\"Pruned Model: 3.9\")\n"
      ],
      "metadata": {
        "id": "w2EJ27rCYz7_"
      },
      "execution_count": null,
      "outputs": []
    }
  ]
}